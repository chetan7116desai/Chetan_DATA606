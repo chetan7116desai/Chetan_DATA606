{
  "nbformat": 4,
  "nbformat_minor": 0,
  "metadata": {
    "colab": {
      "name": "Part 01.ipynb",
      "provenance": [],
      "authorship_tag": "ABX9TyMKYbOUQBH9vjhWBDhbHPSx",
      "include_colab_link": true
    },
    "kernelspec": {
      "name": "python3",
      "display_name": "Python 3"
    },
    "language_info": {
      "name": "python"
    }
  },
  "cells": [
    {
      "cell_type": "markdown",
      "metadata": {
        "id": "view-in-github",
        "colab_type": "text"
      },
      "source": [
        "<a href=\"https://colab.research.google.com/github/chetan7116desai/Chetan_DATA606/blob/main/ipynb/Part_01.ipynb\" target=\"_parent\"><img src=\"https://colab.research.google.com/assets/colab-badge.svg\" alt=\"Open In Colab\"/></a>"
      ]
    },
    {
      "cell_type": "markdown",
      "source": [
        "This is part one"
      ],
      "metadata": {
        "id": "DNyGKfLhdXCJ"
      }
    },
    {
      "cell_type": "code",
      "execution_count": 1,
      "metadata": {
        "id": "bch3j458dUbQ",
        "colab": {
          "base_uri": "https://localhost:8080/"
        },
        "outputId": "088981ab-e1c4-4fda-c563-44e86307d60a"
      },
      "outputs": [
        {
          "output_type": "stream",
          "name": "stdout",
          "text": [
            "hello\n"
          ]
        }
      ],
      "source": [
        "print(\"hello\")"
      ]
    },
    {
      "cell_type": "code",
      "source": [
        ""
      ],
      "metadata": {
        "id": "Lau0XcloeDcI"
      },
      "execution_count": null,
      "outputs": []
    }
  ]
}