{
  "nbformat": 4,
  "nbformat_minor": 0,
  "metadata": {
    "colab": {
      "name": "Part 01.ipynb",
      "provenance": [],
      "authorship_tag": "ABX9TyOja+9aR/Rsfc8ZnsDvdCT7",
      "include_colab_link": true
    },
    "kernelspec": {
      "name": "python3",
      "display_name": "Python 3"
    },
    "language_info": {
      "name": "python"
    }
  },
  "cells": [
    {
      "cell_type": "markdown",
      "metadata": {
        "id": "view-in-github",
        "colab_type": "text"
      },
      "source": [
        "<a href=\"https://colab.research.google.com/github/chetan7116desai/Chetan_DATA606/blob/main/ipynb/Part_01.ipynb\" target=\"_parent\"><img src=\"https://colab.research.google.com/assets/colab-badge.svg\" alt=\"Open In Colab\"/></a>"
      ]
    },
    {
      "cell_type": "markdown",
      "source": [
        "This is part one"
      ],
      "metadata": {
        "id": "DNyGKfLhdXCJ"
      }
    },
    {
      "cell_type": "code",
      "execution_count": null,
      "metadata": {
        "id": "bch3j458dUbQ"
      },
      "outputs": [],
      "source": [
        ""
      ]
    }
  ]
}